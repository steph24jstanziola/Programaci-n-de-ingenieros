{
 "cells": [
  {
   "cell_type": "code",
   "execution_count": 1,
   "id": "c64e84df",
   "metadata": {},
   "outputs": [
    {
     "name": "stdout",
     "output_type": "stream",
     "text": [
      "25.4+°C+ 273.15 = 298.54999999999995k\n"
     ]
    }
   ],
   "source": [
    "celcius=25.4 \n",
    "kelvin=celcius+273.15 \n",
    "print(str(celcius)+\"+°C+ 273.15 = \"+ str(kelvin)+\"k\")"
   ]
  },
  {
   "cell_type": "code",
   "execution_count": 2,
   "id": "cddb73d6",
   "metadata": {},
   "outputs": [
    {
     "name": "stdout",
     "output_type": "stream",
     "text": [
      "La media de 10 datos es : 1.797m\n",
      "La suma de los valores menos la media al cuadrado es :0.35800999999999994\n",
      "La desviacion estandard es :0.18921152184790438\n"
     ]
    }
   ],
   "source": [
    "import math\n",
    "h1=1.5\n",
    "h2=2.2\n",
    "h3=1.56\n",
    "h4=1.78\n",
    "h5=1.82\n",
    "h6=1.90\n",
    "h7=1.66\n",
    "h8=1.91\n",
    "h9=1.76\n",
    "h10=1.88\n",
    "cantidad=10\n",
    "suma=(h1+h2+h3+h4+h5+h6+h7+h8+h9+h10)/cantidad\n",
    "print(\"La media de 10 datos es : \"+ str(suma)+\"m\")\n",
    "sumacuadro= ((h1-suma)**2+ (h2-suma)**2 + (h3-suma)**2 + (h4-suma)**2 + (h5-suma)**2 + (h6-suma)**2 + (h7-suma)**2+ (h8-suma)**2+ (h9-suma)**2+ (h10-suma)**2)\n",
    "deviacion= math.sqrt(sumacuadro/cantidad)\n",
    "print(\"La suma de los valores menos la media al cuadrado es :\"+ str(sumacuadro))\n",
    "print(\"La desviacion estandard es :\"+ str(deviacion))"
   ]
  },
  {
   "cell_type": "code",
   "execution_count": null,
   "id": "b07e2919",
   "metadata": {},
   "outputs": [],
   "source": []
  }
 ],
 "metadata": {
  "kernelspec": {
   "display_name": "Python 3 (ipykernel)",
   "language": "python",
   "name": "python3"
  },
  "language_info": {
   "codemirror_mode": {
    "name": "ipython",
    "version": 3
   },
   "file_extension": ".py",
   "mimetype": "text/x-python",
   "name": "python",
   "nbconvert_exporter": "python",
   "pygments_lexer": "ipython3",
   "version": "3.9.12"
  }
 },
 "nbformat": 4,
 "nbformat_minor": 5
}
